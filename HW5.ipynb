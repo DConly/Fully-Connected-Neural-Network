{
 "cells": [
  {
   "cell_type": "markdown",
   "metadata": {},
   "source": [
    "Neural Network for Classification Task in PyTorch\n",
    " \n",
    "Name:   Duncan Conly \n",
    "\n",
    "UA ID:   010958878"
   ]
  },
  {
   "cell_type": "code",
   "execution_count": 1,
   "metadata": {
    "executionInfo": {
     "elapsed": 6782,
     "status": "ok",
     "timestamp": 1694965320922,
     "user": {
      "displayName": "Ukash Nakarmi",
      "userId": "01757892645475547705"
     },
     "user_tz": 300
    },
    "id": "DBbFiTLGgHxw"
   },
   "outputs": [],
   "source": [
    "# We import the library torch for the PyTorch library. Torch.nn is for building neural networks. Torch Vision is for using computer vision in PyTorch.\n",
    "# Torchvision.transforms is for image preprocessing. Numpy is imported for doing some more computing with data and matplotlib.pyplot is for making plots and visualizing data.\n",
    "\n",
    "import torch\n",
    "import torch.nn as nn\n",
    "import torchvision\n",
    "import torchvision.transforms as transforms\n",
    "import numpy as np\n",
    "import matplotlib.pyplot as plt\n"
   ]
  },
  {
   "cell_type": "code",
   "execution_count": 2,
   "metadata": {
    "executionInfo": {
     "elapsed": 309,
     "status": "ok",
     "timestamp": 1694975265994,
     "user": {
      "displayName": "Ukash Nakarmi",
      "userId": "01757892645475547705"
     },
     "user_tz": 300
    },
    "id": "17kmBFSQg8PD"
   },
   "outputs": [],
   "source": [
    "# Download some training data. MNIST in this example\n",
    "# More about datasets available in Pytorch here: https://pytorch.org/vision/stable/datasets.html\n",
    "\n",
    "# From torchvision, this code is importing the MNIST data set which has images that are 28x28 pixels. We set the root to '.', which means to store the data set in the current\n",
    "# directory. It then sets train to true, which loads the training set instead of the test set. Transform is set to transforms.ToTensor() which applies a transform to the images.\n",
    "# Downloads being true means just to download the data set if it isn't already.\n",
    "\n",
    "train_dataset = torchvision.datasets.MNIST(root = '.', train=True, transform=transforms.ToTensor(),download=True)"
   ]
  },
  {
   "cell_type": "code",
   "execution_count": 3,
   "metadata": {
    "colab": {
     "base_uri": "https://localhost:8080/"
    },
    "executionInfo": {
     "elapsed": 7,
     "status": "ok",
     "timestamp": 1694965322651,
     "user": {
      "displayName": "Ukash Nakarmi",
      "userId": "01757892645475547705"
     },
     "user_tz": 300
    },
    "id": "u5-Eghm6hZEn",
    "outputId": "db9ec40d-60c7-45f4-aae1-8fee44cac420"
   },
   "outputs": [
    {
     "name": "stdout",
     "output_type": "stream",
     "text": [
      "Input data shape is: torch.Size([60000, 28, 28])\n",
      "Maximum value of entry in data is: tensor(255, dtype=torch.uint8)\n",
      "Minimum value of entry in data is: tensor(0, dtype=torch.uint8)\n"
     ]
    }
   ],
   "source": [
    "# The code first prints out the data set in the shape of how many entries there are in the data, and the n x m matrix is 28 pixels by 28 pixels.\n",
    "# It then prinst what the maximum number a single pixel value is in the set, then the next print outputs the lowest single pixel value.\n",
    "\n",
    "# Lets look at some charatersitics of the training data\n",
    "print('Input data shape is:', train_dataset.data.shape)\n",
    "print('Maximum value of entry in data is:', train_dataset.data.max())\n",
    "print('Minimum value of entry in data is:', train_dataset.data.min())\n",
    "\n"
   ]
  },
  {
   "cell_type": "code",
   "execution_count": 4,
   "metadata": {
    "colab": {
     "base_uri": "https://localhost:8080/",
     "height": 1000
    },
    "executionInfo": {
     "elapsed": 857,
     "status": "ok",
     "timestamp": 1694965323504,
     "user": {
      "displayName": "Ukash Nakarmi",
      "userId": "01757892645475547705"
     },
     "user_tz": 300
    },
    "id": "gFWc9DuMiQSy",
    "outputId": "74aab3dd-7bea-4021-fbbb-a5404436a670"
   },
   "outputs": [
    {
     "name": "stdout",
     "output_type": "stream",
     "text": [
      "The sample data is: \n",
      " tensor([[  0,   0,   0,   0,   0,   0,   0,   0,   0,   0,   0,   0,   0,   0,\n",
      "           0,   0,   0,   0,   0,   0,   0,   0,   0,   0,   0,   0,   0,   0],\n",
      "        [  0,   0,   0,   0,   0,   0,   0,   0,   0,   0,   0,   0,   0,   0,\n",
      "           0,   0,   0,   0,   0,   0,   0,   0,   0,   0,   0,   0,   0,   0],\n",
      "        [  0,   0,   0,   0,   0,   0,   0,   0,   0,   0,   0,   0,   0,   0,\n",
      "           0,   0,   0,   0,   0,   0,   0,   0,   0,   0,   0,   0,   0,   0],\n",
      "        [  0,   0,   0,   0,   0,   0,   0,   0,   0,   0,   0,   0,   0,   0,\n",
      "           0,   0,   0,   0,   0,   0,   0,   0,   0,   0,   0,   0,   0,   0],\n",
      "        [  0,   0,   0,   0,   0,   0,   0,   0,   0,   0,   0,  42, 118, 219,\n",
      "         166, 118, 118,   6,   0,   0,   0,   0,   0,   0,   0,   0,   0,   0],\n",
      "        [  0,   0,   0,   0,   0,   0,   0,   0,   0,   0, 103, 242, 254, 254,\n",
      "         254, 254, 254,  66,   0,   0,   0,   0,   0,   0,   0,   0,   0,   0],\n",
      "        [  0,   0,   0,   0,   0,   0,   0,   0,   0,   0,  18, 232, 254, 254,\n",
      "         254, 254, 254, 238,  70,   0,   0,   0,   0,   0,   0,   0,   0,   0],\n",
      "        [  0,   0,   0,   0,   0,   0,   0,   0,   0,   0,   0, 104, 244, 254,\n",
      "         224, 254, 254, 254, 141,   0,   0,   0,   0,   0,   0,   0,   0,   0],\n",
      "        [  0,   0,   0,   0,   0,   0,   0,   0,   0,   0,   0,   0, 207, 254,\n",
      "         210, 254, 254, 254,  34,   0,   0,   0,   0,   0,   0,   0,   0,   0],\n",
      "        [  0,   0,   0,   0,   0,   0,   0,   0,   0,   0,   0,   0,  84, 206,\n",
      "         254, 254, 254, 254,  41,   0,   0,   0,   0,   0,   0,   0,   0,   0],\n",
      "        [  0,   0,   0,   0,   0,   0,   0,   0,   0,   0,   0,   0,   0,  24,\n",
      "         209, 254, 254, 254, 171,   0,   0,   0,   0,   0,   0,   0,   0,   0],\n",
      "        [  0,   0,   0,   0,   0,   0,   0,   0,   0,   0,   0,   0,  91, 137,\n",
      "         253, 254, 254, 254, 112,   0,   0,   0,   0,   0,   0,   0,   0,   0],\n",
      "        [  0,   0,   0,   0,   0,   0,   0,   0,   0,   0,  40, 214, 250, 254,\n",
      "         254, 254, 254, 254,  34,   0,   0,   0,   0,   0,   0,   0,   0,   0],\n",
      "        [  0,   0,   0,   0,   0,   0,   0,   0,   0,   0,  81, 247, 254, 254,\n",
      "         254, 254, 254, 254, 146,   0,   0,   0,   0,   0,   0,   0,   0,   0],\n",
      "        [  0,   0,   0,   0,   0,   0,   0,   0,   0,   0,   0, 110, 246, 254,\n",
      "         254, 254, 254, 254, 171,   0,   0,   0,   0,   0,   0,   0,   0,   0],\n",
      "        [  0,   0,   0,   0,   0,   0,   0,   0,   0,   0,   0,   0,  73,  89,\n",
      "          89,  93, 240, 254, 171,   0,   0,   0,   0,   0,   0,   0,   0,   0],\n",
      "        [  0,   0,   0,   0,   0,   0,   0,   0,   0,   0,   0,   0,   0,   0,\n",
      "           0,   1, 128, 254, 219,  31,   0,   0,   0,   0,   0,   0,   0,   0],\n",
      "        [  0,   0,   0,   0,   0,   0,   0,   0,   0,   0,   0,   0,   0,   0,\n",
      "           0,   7, 254, 254, 214,  28,   0,   0,   0,   0,   0,   0,   0,   0],\n",
      "        [  0,   0,   0,   0,   0,   0,   0,   0,   0,   0,   0,   0,   0,   0,\n",
      "           0, 138, 254, 254, 116,   0,   0,   0,   0,   0,   0,   0,   0,   0],\n",
      "        [  0,   0,   0,   0,   0,   0,  19, 177,  90,   0,   0,   0,   0,   0,\n",
      "          25, 240, 254, 254,  34,   0,   0,   0,   0,   0,   0,   0,   0,   0],\n",
      "        [  0,   0,   0,   0,   0,   0, 164, 254, 215,  63,  36,   0,  51,  89,\n",
      "         206, 254, 254, 139,   8,   0,   0,   0,   0,   0,   0,   0,   0,   0],\n",
      "        [  0,   0,   0,   0,   0,   0,  57, 197, 254, 254, 222, 180, 241, 254,\n",
      "         254, 253, 213,  11,   0,   0,   0,   0,   0,   0,   0,   0,   0,   0],\n",
      "        [  0,   0,   0,   0,   0,   0,   0, 140, 105, 254, 254, 254, 254, 254,\n",
      "         254, 236,   0,   0,   0,   0,   0,   0,   0,   0,   0,   0,   0,   0],\n",
      "        [  0,   0,   0,   0,   0,   0,   0,   0,   7, 117, 117, 165, 254, 254,\n",
      "         239,  50,   0,   0,   0,   0,   0,   0,   0,   0,   0,   0,   0,   0],\n",
      "        [  0,   0,   0,   0,   0,   0,   0,   0,   0,   0,   0,   0,   0,   0,\n",
      "           0,   0,   0,   0,   0,   0,   0,   0,   0,   0,   0,   0,   0,   0],\n",
      "        [  0,   0,   0,   0,   0,   0,   0,   0,   0,   0,   0,   0,   0,   0,\n",
      "           0,   0,   0,   0,   0,   0,   0,   0,   0,   0,   0,   0,   0,   0],\n",
      "        [  0,   0,   0,   0,   0,   0,   0,   0,   0,   0,   0,   0,   0,   0,\n",
      "           0,   0,   0,   0,   0,   0,   0,   0,   0,   0,   0,   0,   0,   0],\n",
      "        [  0,   0,   0,   0,   0,   0,   0,   0,   0,   0,   0,   0,   0,   0,\n",
      "           0,   0,   0,   0,   0,   0,   0,   0,   0,   0,   0,   0,   0,   0]],\n",
      "       dtype=torch.uint8)\n"
     ]
    },
    {
     "data": {
      "text/plain": [
       "Text(0.5, 1.0, 'Sample data image')"
      ]
     },
     "execution_count": 4,
     "metadata": {},
     "output_type": "execute_result"
    },
    {
     "data": {
      "image/png": "[encoded data removed]",
      "text/plain": [
       "<Figure size 640x480 with 1 Axes>"
      ]
     },
     "metadata": {},
     "output_type": "display_data"
    }
   ],
   "source": [
    "# Chose a sample from train data and print its value and also display as an image\n",
    "# This code chooses the 11th image from the training set and makes that i, then it prints the raw pixel values of the 28 x 28 selected 11th image. \n",
    "# The plt.imshow then displays the image with a grayscale color selector using cmap.  Then we make the title of the plot \"Sample data image\". \n",
    "# When using the : operator, it means that you take all the rows and columns of each. Ex, if you use 2:, take every row after 2, but if you use \n",
    "# :3, take the first 3 rows.\n",
    "i = 10\n",
    "print('The sample data is: \\n', train_dataset.data[i,:,:])\n",
    "plt.imshow(train_dataset.data[i,:,:], cmap = 'gray')\n",
    "plt.title('Sample data image')"
   ]
  },
  {
   "cell_type": "code",
   "execution_count": 5,
   "metadata": {
    "colab": {
     "base_uri": "https://localhost:8080/"
    },
    "executionInfo": {
     "elapsed": 6,
     "status": "ok",
     "timestamp": 1694965323504,
     "user": {
      "displayName": "Ukash Nakarmi",
      "userId": "01757892645475547705"
     },
     "user_tz": 300
    },
    "id": "2_mbNq8AmZV7",
    "outputId": "cbe9c6a5-07ca-41d6-d9b6-c306f69ac356"
   },
   "outputs": [
    {
     "name": "stdout",
     "output_type": "stream",
     "text": [
      "The shape of target is: torch.Size([60000])\n",
      "The target value of ith train data sample above is: tensor(3)\n"
     ]
    }
   ],
   "source": [
    "# Labels/Targets of train dataset\n",
    "# This set prints the shape of the labels, so it prints 60,000 since there are 60,000 labels. \n",
    "# We then print out the label for the image i, which is 11. So the label for image 11 is 3.\n",
    "\n",
    "print('The shape of target is:', train_dataset.targets.shape)\n",
    "print('The target value of ith train data sample above is:', train_dataset.targets[i] )"
   ]
  },
  {
   "cell_type": "code",
   "execution_count": 6,
   "metadata": {
    "executionInfo": {
     "elapsed": 4,
     "status": "ok",
     "timestamp": 1694965323504,
     "user": {
      "displayName": "Ukash Nakarmi",
      "userId": "01757892645475547705"
     },
     "user_tz": 300
    },
    "id": "KHAHjPn-njhA"
   },
   "outputs": [],
   "source": [
    "# Get the test data as well\n",
    "# This is the same as when we took the training set, but instead of saying train is True, we say it is false to get the test set which is 10,000 sets of data.\n",
    "test_dataset = torchvision.datasets.MNIST(root = '.', train=False, transform=transforms.ToTensor(),download=True)"
   ]
  },
  {
   "cell_type": "code",
   "execution_count": 7,
   "metadata": {
    "colab": {
     "base_uri": "https://localhost:8080/"
    },
    "executionInfo": {
     "elapsed": 5,
     "status": "ok",
     "timestamp": 1694965323505,
     "user": {
      "displayName": "Ukash Nakarmi",
      "userId": "01757892645475547705"
     },
     "user_tz": 300
    },
    "id": "ZNjdM_KLn05E",
    "outputId": "626ca3cd-73ea-4525-eb91-681132240b3b"
   },
   "outputs": [
    {
     "name": "stdout",
     "output_type": "stream",
     "text": [
      "Input data shape is: torch.Size([10000, 28, 28])\n",
      "Maximum value of entry in data is: tensor(255, dtype=torch.uint8)\n",
      "Minimum value of entry in data is: tensor(0, dtype=torch.uint8)\n",
      "The shape of target is: torch.Size([10000])\n"
     ]
    }
   ],
   "source": [
    "# Lets look at some charatersitics of the training data and thier targets\n",
    "# The first line outputs the shape, which is 10,000 pictures, and has 28x28 pixel size. The max and min are then outputted, still 255 and 0 as they were earlier.\n",
    "# The shape of the data which is the size is 10,000.\n",
    "\n",
    "print('Input data shape is:', test_dataset.data.shape)\n",
    "print('Maximum value of entry in data is:', test_dataset.data.max())\n",
    "print('Minimum value of entry in data is:', test_dataset.data.min())\n",
    "print('The shape of target is:', test_dataset.targets.shape)"
   ]
  },
  {
   "cell_type": "code",
   "execution_count": 8,
   "metadata": {
    "colab": {
     "base_uri": "https://localhost:8080/"
    },
    "executionInfo": {
     "elapsed": 139,
     "status": "ok",
     "timestamp": 1694968136483,
     "user": {
      "displayName": "Ukash Nakarmi",
      "userId": "01757892645475547705"
     },
     "user_tz": 300
    },
    "id": "0CvCNTzsoKyJ",
    "outputId": "894e4deb-3d94-4368-da51-fe705dbfd790"
   },
   "outputs": [
    {
     "name": "stdout",
     "output_type": "stream",
     "text": [
      "784\n"
     ]
    }
   ],
   "source": [
    "# Lets build a simple Artificial Neural Netowrk Model\n",
    "# In this section the code it first flattens the data set. The input size is set to the train_dataset.data.size(-1)* train_dataset.data.size(-2) which gets the width and the \n",
    "# height of the image and multiply them by eachother. Then it prints out the input size which is 784, because 28x28 = 784. Then, we define a model which creates a neural network \n",
    "# using the nn.Sequential function, that allows you to stack layers that will happen in sequence. It stacks the Linear layer that is the first fully connected layer, then\n",
    "# running it through the ReLU, that applies a non- linear activation function. We then run it back through another fully connected layer that takes the 128 nodes down to 10 nodes. \n",
    "input_size = train_dataset.data.size(-1)*train_dataset.data.size(-2) # We flatten image to a vector in Fully connected NN, so find length of data\n",
    "print(input_size)\n",
    "model = nn.Sequential(\n",
    "      nn.Linear(input_size,128), # train from the input size, down to 128 nodes\n",
    "      nn.ReLU(),\n",
    "      #nn.Linear(256,128),\n",
    "      #nn.ReLU(),\n",
    "      nn.Linear(128,10) # then train from 128 nodes to 10 nodes\n",
    ")"
   ]
  },
  {
   "cell_type": "code",
   "execution_count": 9,
   "metadata": {
    "colab": {
     "base_uri": "https://localhost:8080/"
    },
    "executionInfo": {
     "elapsed": 152,
     "status": "ok",
     "timestamp": 1694968138359,
     "user": {
      "displayName": "Ukash Nakarmi",
      "userId": "01757892645475547705"
     },
     "user_tz": 300
    },
    "id": "tKo6jgQZo6mM",
    "outputId": "71cd2ba4-666b-4489-e06c-000bf20d6a12"
   },
   "outputs": [
    {
     "name": "stdout",
     "output_type": "stream",
     "text": [
      "The device being used is: cpu\n"
     ]
    },
    {
     "data": {
      "text/plain": [
       "Sequential(\n",
       "  (0): Linear(in_features=784, out_features=128, bias=True)\n",
       "  (1): ReLU()\n",
       "  (2): Linear(in_features=128, out_features=10, bias=True)\n",
       ")"
      ]
     },
     "execution_count": 9,
     "metadata": {},
     "output_type": "execute_result"
    }
   ],
   "source": [
    "# This is chosing which device to run the model on. It checks if you have a gpu that can run the model, if not, then use the cpu.\n",
    "# It then prints out the device being used and all of the layers of the neural network model. It then sets the model to use the device.\n",
    "\n",
    "# Choose Device\n",
    "device = torch.device(\"cuda:0\" if torch.cuda.is_available() else 'cpu')\n",
    "print('The device being used is:', device)\n",
    "model.to(device)"
   ]
  },
  {
   "cell_type": "code",
   "execution_count": 10,
   "metadata": {
    "executionInfo": {
     "elapsed": 143,
     "status": "ok",
     "timestamp": 1694968142903,
     "user": {
      "displayName": "Ukash Nakarmi",
      "userId": "01757892645475547705"
     },
     "user_tz": 300
    },
    "id": "KRIr2cG3pZw9"
   },
   "outputs": [],
   "source": [
    "# For this section, we create the loss function for the classification tasks using the nn.CrossEntropyLoss().This measures the difference between predicted \n",
    "# class probabilities and the true class labels. The lower the value, the better the proformance. The optimizer function is used to update the models parameters during training.\n",
    "# Adam is a popular optimization algorithm that stands for Adaptive Moment Estimation. It adapts the learning rate for each parameter individually. This is good for \n",
    "# training deep learning networks. It passes the models perameeters to the optimizer so it can be updated during backpropogation.\n",
    "\n",
    "# Choose the Loss Function and Optimizer\n",
    "criterion = nn.CrossEntropyLoss()\n",
    "optimizer = torch.optim.Adam(model.parameters())"
   ]
  },
  {
   "cell_type": "code",
   "execution_count": 11,
   "metadata": {
    "executionInfo": {
     "elapsed": 161,
     "status": "ok",
     "timestamp": 1694968145689,
     "user": {
      "displayName": "Ukash Nakarmi",
      "userId": "01757892645475547705"
     },
     "user_tz": 300
    },
    "id": "jHC687_ApunT"
   },
   "outputs": [],
   "source": [
    "# In Deep Learning frameworks, learning parameters/optimization is done over batches.\n",
    "# Data Loader generates such batches of data automatically, shuffles data, maps data tp 0-1 and other processing.\n",
    "# Define batch size, call data loader for train data and test data\n",
    "\n",
    "# This creates a batch size of 128, which sets the number of samples per batch during training and testind. The model will see 128 images at a time before updating the \n",
    "# weights. The train _loader is set equal to the train data set, the batch size, and the shuffling is turned on. Same with the test loader, besides it is loaded with the \n",
    "# test_data set. \n",
    "\n",
    "batch_size = 128\n",
    "train_loader = torch.utils.data.DataLoader(dataset=train_dataset, batch_size=batch_size, shuffle = True)\n",
    "test_loader  = torch.utils.data.DataLoader(dataset=test_dataset, batch_size=batch_size, shuffle = True)"
   ]
  },
  {
   "cell_type": "code",
   "execution_count": 12,
   "metadata": {
    "colab": {
     "base_uri": "https://localhost:8080/"
    },
    "executionInfo": {
     "elapsed": 135,
     "status": "ok",
     "timestamp": 1694968168334,
     "user": {
      "displayName": "Ukash Nakarmi",
      "userId": "01757892645475547705"
     },
     "user_tz": 300
    },
    "id": "9pfgI-Aa8eZs",
    "outputId": "fbfb3f47-7f26-4060-9430-e2465499f3f4"
   },
   "outputs": [
    {
     "name": "stdout",
     "output_type": "stream",
     "text": [
      "The shape of data  is: torch.Size([2, 1, 28, 28])\n",
      "The shape of target is: torch.Size([2])\n",
      "Maximum value of entry in data is: tensor(1.)\n",
      "Minimum value of entry in data is: tensor(0.)\n",
      "The sample data input is: tensor([[[[0., 0., 0.,  ..., 0., 0., 0.],\n",
      "          [0., 0., 0.,  ..., 0., 0., 0.],\n",
      "          [0., 0., 0.,  ..., 0., 0., 0.],\n",
      "          ...,\n",
      "          [0., 0., 0.,  ..., 0., 0., 0.],\n",
      "          [0., 0., 0.,  ..., 0., 0., 0.],\n",
      "          [0., 0., 0.,  ..., 0., 0., 0.]]],\n",
      "\n",
      "\n",
      "        [[[0., 0., 0.,  ..., 0., 0., 0.],\n",
      "          [0., 0., 0.,  ..., 0., 0., 0.],\n",
      "          [0., 0., 0.,  ..., 0., 0., 0.],\n",
      "          ...,\n",
      "          [0., 0., 0.,  ..., 0., 0., 0.],\n",
      "          [0., 0., 0.,  ..., 0., 0., 0.],\n",
      "          [0., 0., 0.,  ..., 0., 0., 0.]]]])\n"
     ]
    }
   ],
   "source": [
    "# Batch Example: Illustration how data loader works in Pytorch\n",
    "# Lets set batch_size = 1 and check the data and target\n",
    "# Note how the data is now mapped to (0,1)\n",
    "# The first dimension = batch_size\n",
    "\n",
    "# So first, we set the batch_example to the train set data. The batch size is set to 2 for each batch has 2 images. The for loop loops over the data loader, and prints\n",
    "# the shape of the data, it outputs the shape of the target which is just 2 labels for each of the images. It then prints the max and minimum values. The maximum is 1 and\n",
    "# and the minimum is 1 because the transforms.ToTensor() function was used on the data previously. We then print out the tensor data for the two images.\n",
    "\n",
    "\n",
    "batch_example = torch.utils.data.DataLoader(dataset=train_dataset, batch_size=2, shuffle = True)\n",
    "for input, target in batch_example:\n",
    "  print('The shape of data  is:', input.shape) # the second variable (in this case 1) is the channel, the 2 is the batch size, and the data is 28 rows and 28 columns\n",
    "  print('The shape of target is:', target.shape)\n",
    "  print('Maximum value of entry in data is:', input.max())\n",
    "  print('Minimum value of entry in data is:', input.min())\n",
    "  print('The sample data input is:', input)\n",
    "  break"
   ]
  },
  {
   "cell_type": "code",
   "execution_count": 13,
   "metadata": {
    "colab": {
     "base_uri": "https://localhost:8080/"
    },
    "executionInfo": {
     "elapsed": 103987,
     "status": "ok",
     "timestamp": 1694979727343,
     "user": {
      "displayName": "Ukash Nakarmi",
      "userId": "01757892645475547705"
     },
     "user_tz": 300
    },
    "id": "i-D6p38D81t0",
    "outputId": "3094ee4b-ba16-4b89-af01-79d9d9e27e97"
   },
   "outputs": [
    {
     "name": "stdout",
     "output_type": "stream",
     "text": [
      "Epoch 1/10, Train Loss: 0.42, Test Loss: 0.23\n",
      "Epoch 2/10, Train Loss: 0.20, Test Loss: 0.16\n",
      "Epoch 3/10, Train Loss: 0.14, Test Loss: 0.13\n",
      "Epoch 4/10, Train Loss: 0.11, Test Loss: 0.11\n",
      "Epoch 5/10, Train Loss: 0.09, Test Loss: 0.09\n",
      "Epoch 6/10, Train Loss: 0.07, Test Loss: 0.09\n",
      "Epoch 7/10, Train Loss: 0.06, Test Loss: 0.08\n",
      "Epoch 8/10, Train Loss: 0.05, Test Loss: 0.08\n",
      "Epoch 9/10, Train Loss: 0.04, Test Loss: 0.07\n",
      "Epoch 10/10, Train Loss: 0.04, Test Loss: 0.07\n"
     ]
    }
   ],
   "source": [
    "# In this section, we are training the model for 10 passes through the training data, and we hav etwo numpy arrays that store the average training and test loss per epoch.\n",
    "# The loop starts a new epoch, which initializes a training loss array. The nested loop then moves the images to the device, and flattens the images into 784 element vectors\n",
    "# with the function .view(-1, input_size). It then sets the old gradients to zeor, does a forward pass that feeds the input through the model, alculates the loss, does a backward\n",
    "# pass that computes the gradients. Then the optimizer is stepped through which updates the model weights. The train loss array is then added too. The nested loop is then over\n",
    "# so we calculate the train loss average. The second nested for loop then feeds the test data through the model and calculates and stores the loss per batch. We then store \n",
    "# and print the results. We compute the average test loss for the epoch, stores both train and test losses in arrays for later plotting. It then prints the epoch.\n",
    "\n",
    "# Define some training parameters, initlialize some variables to store results and train the model\n",
    "num_epochs = 10\n",
    "train_losses = np.zeros(num_epochs) # used to save loss at each epoch so we could see the loss curve and convergence\n",
    "test_losses = np.zeros(num_epochs)\n",
    "\n",
    "for n in range(num_epochs):\n",
    "  train_loss = [] # train loss during each iteration\n",
    "  for inputs, targets in train_loader:\n",
    "    inputs, targets = inputs.to(device), targets.to(device) # data is moved to the device\n",
    "    # Returns a new tensor with the same data as the :attr:`self` tensor but of a different :attr:`shape`.\n",
    "    # 1st argument is number of rows, second argument is number of columns in new tensor\n",
    "    # -1 means give me appropriate rows or columns depending on the dimension that is specified. \n",
    "    inputs = inputs.view(-1,input_size) \n",
    "\n",
    "    #The optimizer zero_grad() method sets the gradients of all optimized torch Tensors to zero.\n",
    "    #This is useful to do before each backward pass, as it ensures that the gradients are not accumulating from previous iterations.\n",
    "    optimizer.zero_grad()\n",
    "\n",
    "    outputs = model(inputs) # Forward pass of the model\n",
    "    loss = criterion(outputs,targets)\n",
    "\n",
    "    loss.backward() # Backward pass of the model\n",
    "    optimizer.step()\n",
    "\n",
    "    train_loss.append(loss.item())\n",
    "\n",
    "  # train loss and test loss for each epoch\n",
    "  train_loss = np.mean(train_loss) # train loss for each epoch\n",
    "\n",
    "  test_loss = []\n",
    "  for inputs, targets in test_loader:\n",
    "    inputs, targets = inputs.to(device), targets.to(device) # data is moved to the device\n",
    "    inputs = inputs.view(-1,input_size)\n",
    "    outputs = model(inputs)\n",
    "    loss = criterion(outputs,targets)\n",
    "    test_loss.append(loss.item())\n",
    "\n",
    "  test_loss = np.mean(test_loss)\n",
    "\n",
    "  # push train and test loss of each epcoh\n",
    "  train_losses[n] = train_loss\n",
    "  test_losses[n] = test_loss\n",
    "\n",
    "  print(f'Epoch {n+1}/{num_epochs}, Train Loss: {train_loss:.2f}, Test Loss: {test_loss:.2f}')\n",
    "\n"
   ]
  },
  {
   "cell_type": "code",
   "execution_count": 14,
   "metadata": {
    "colab": {
     "base_uri": "https://localhost:8080/",
     "height": 489
    },
    "executionInfo": {
     "elapsed": 915,
     "status": "ok",
     "timestamp": 1694979749509,
     "user": {
      "displayName": "Ukash Nakarmi",
      "userId": "01757892645475547705"
     },
     "user_tz": 300
    },
    "id": "DsEv4zvc9X1x",
    "outputId": "f54e2d32-9ae6-4b65-fc45-464a152bba66"
   },
   "outputs": [
    {
     "data": {
      "text/plain": [
       "Text(0.5, 1.0, 'Training and Test Loss')"
      ]
     },
     "execution_count": 14,
     "metadata": {},
     "output_type": "execute_result"
    },
    {
     "data": {
      "image/png": "[encoded data removed]",
      "text/plain": [
       "<Figure size 640x480 with 1 Axes>"
      ]
     },
     "metadata": {},
     "output_type": "display_data"
    }
   ],
   "source": [
    "# We then print the train losses vs the testing loss. This shows if both losses are decreasing, the model is learning well. \n",
    "\n",
    "# plot train loss and test loss for each epoch\n",
    "plt.plot(train_losses, label = 'Train Loss')\n",
    "plt.plot(test_losses, label = 'Test Loss')\n",
    "plt.xlabel('Epochs')\n",
    "plt.ylabel('Loss')\n",
    "plt.legend()\n",
    "plt.title('Training and Test Loss')\n",
    "\n"
   ]
  },
  {
   "cell_type": "code",
   "execution_count": 15,
   "metadata": {
    "executionInfo": {
     "elapsed": 8482,
     "status": "ok",
     "timestamp": 1694979763717,
     "user": {
      "displayName": "Ukash Nakarmi",
      "userId": "01757892645475547705"
     },
     "user_tz": 300
    },
    "id": "N8WaeHT2qCDH"
   },
   "outputs": [],
   "source": [
    "# This section calculates the training accuracy by comparing the models predicted class with the true labels for each of the training samples. We start a count for \n",
    "# correct predictions there are, and then we have a count for how many predictions were made. The for loop loops through the batches of training data for the DataLoader.\n",
    "# It then sends the data ot the CPU and flattens the model. We then create an output fo rthe models raw presictions, and get the index of the max value along the first\n",
    "# dimension. We then compare the predictions to the actual labels.\n",
    "\n",
    "\n",
    "# Compute Training and Test Accuracy\n",
    "# We pass training data and test data through the model we trained and calculate correct guesses in each case\n",
    "# For Training Data\n",
    "num_correct_train = 0\n",
    "num_total_train = 0\n",
    "\n",
    "for inputs, targets in train_loader:\n",
    "  inputs, targets = inputs.to(device), targets.to(device)\n",
    "\n",
    "  inputs = inputs.view(-1,input_size)\n",
    "\n",
    "  # Pass train data in the model that is trained\n",
    "  outputs = model(inputs)\n",
    "\n",
    "  # Output is of size 1x numclass with predicted class having highest value. index with max val is the predicted class. #one hot encoding\n",
    "  val, predictions = torch.max(outputs, 1)\n",
    "\n",
    "  # Check if prediction is correct or not and update count if prediction is correct\n",
    "  num_correct_train += (predictions == targets).sum().item()\n",
    "  num_total_train += targets.shape[0]\n",
    "\n"
   ]
  },
  {
   "cell_type": "code",
   "execution_count": 16,
   "metadata": {
    "colab": {
     "base_uri": "https://localhost:8080/"
    },
    "executionInfo": {
     "elapsed": 144,
     "status": "ok",
     "timestamp": 1694979765622,
     "user": {
      "displayName": "Ukash Nakarmi",
      "userId": "01757892645475547705"
     },
     "user_tz": 300
    },
    "id": "qf2dtnwVtDe4",
    "outputId": "4ee17dea-3d4d-42f9-ac6a-4ca18e95de35"
   },
   "outputs": [
    {
     "name": "stdout",
     "output_type": "stream",
     "text": [
      "The Training Accuracy is 99.18%\n"
     ]
    }
   ],
   "source": [
    "# This section calculates the train accuracy by dividing the number that were correct by the total number, and outputs that number as a percent.\n",
    "\n",
    "train_accuracy = num_correct_train/num_total_train\n",
    "print(f'The Training Accuracy is {train_accuracy*100:.2f}%')"
   ]
  },
  {
   "cell_type": "code",
   "execution_count": 17,
   "metadata": {
    "executionInfo": {
     "elapsed": 1493,
     "status": "ok",
     "timestamp": 1694980609261,
     "user": {
      "displayName": "Ukash Nakarmi",
      "userId": "01757892645475547705"
     },
     "user_tz": 300
    },
    "id": "gl0mjAHHy7Pf"
   },
   "outputs": [],
   "source": [
    "# This code computes the test accuracy and stores all the model prediction and true labels to be evaluated later. We create counts for the test correctness and the \n",
    "# total number of tests. It stores all predicted labels, and all the true labels. In the for loop, it is looping through the batches of the test data set. It moves the data\n",
    "# to the device, and flattens the images into 784 length vectors. It then gets the outputs as the models raw prediction scores for each of the classes. It then converts PyTorch \n",
    "# tensors to NumPy arrays and appends them to running arrays for a confusion matrix. It then compares predictions to true labels and adds to the correct array and the total array.\n",
    "\n",
    "# Evaluate Model: Compute Training and Test Accuracy\n",
    "# We pass training data and test data through the model we trained and calculate correct guesses in each case\n",
    "# For Test Data\n",
    "\n",
    "num_correct_test = 0\n",
    "num_total_test = 0\n",
    "predictions_test = np.array([]) #  numpy array to store predictions for entire test dataset. Will be used for confusion matrix later\n",
    "targets_test = np.array([])   #  numpy array to store true targets for entire test dataset. Will be used for confusion matrix later\n",
    "for inputs, targets in test_loader:\n",
    "  inputs, targets = inputs.to(device), targets.to(device)\n",
    "\n",
    "  inputs = inputs.view(-1,input_size)\n",
    "\n",
    "  # Pass train data in the model that is trained\n",
    "  outputs = model(inputs)\n",
    "\n",
    "  # Output is of size 1x numclass with predicted class having highest value. index with max val is the predicted class. #one hot encoding\n",
    "  val, predictions = torch.max(outputs,1)\n",
    "\n",
    "  predictions_test = np.concatenate((predictions_test, predictions.cpu().numpy()))\n",
    "  targets_test     = np.concatenate((targets_test,targets.cpu().numpy()))\n",
    "  # Check if prediction is correct or not and update count if prediction is correct\n",
    "  num_correct_test += (predictions == targets).sum().item()\n",
    "  num_total_test += targets.shape[0]"
   ]
  },
  {
   "cell_type": "code",
   "execution_count": 18,
   "metadata": {
    "colab": {
     "base_uri": "https://localhost:8080/"
    },
    "executionInfo": {
     "elapsed": 171,
     "status": "ok",
     "timestamp": 1694979773410,
     "user": {
      "displayName": "Ukash Nakarmi",
      "userId": "01757892645475547705"
     },
     "user_tz": 300
    },
    "id": "jGvy2idKzIEP",
    "outputId": "b83b397b-230e-40e1-b96f-920bca175780"
   },
   "outputs": [
    {
     "name": "stdout",
     "output_type": "stream",
     "text": [
      "The Test Accuracy is 97.76%\n"
     ]
    }
   ],
   "source": [
    "# This then calculates the testing accuracy and outputs it as a percent.\n",
    "\n",
    "test_accuracy = num_correct_test/num_total_test\n",
    "print(f'The Test Accuracy is {test_accuracy*100:.2f}%')"
   ]
  },
  {
   "cell_type": "code",
   "execution_count": 19,
   "metadata": {
    "colab": {
     "base_uri": "https://localhost:8080/",
     "height": 850
    },
    "executionInfo": {
     "elapsed": 1395,
     "status": "ok",
     "timestamp": 1694984677699,
     "user": {
      "displayName": "Ukash Nakarmi",
      "userId": "01757892645475547705"
     },
     "user_tz": 300
    },
    "id": "UMC9HvE0i14i",
    "outputId": "fb4a13b5-8e02-4530-a306-8251440c8d4e"
   },
   "outputs": [
    {
     "data": {
      "image/png": "[encoded data removed]",
      "text/plain": [
       "<Figure size 1000x1000 with 2 Axes>"
      ]
     },
     "metadata": {},
     "output_type": "display_data"
    }
   ],
   "source": [
    "# It then generate a confustion matrix, which is a table that shows how well the model is classifying the test images. Each row represents the actual digit from the test data\n",
    "# and each column represents the digit predicted by the model. The diagonal values show the number of correct prediction for each digit. Off diagonal values \n",
    "# show the misclassifications. This helps you understand where the model is making mistakes and which digits it confuses most often. \n",
    "\n",
    "# Create a Confusion matrix for Test Data Prediction and  actual Targets\n",
    "# We will use confusion_matrix from sklearn\n",
    "from sklearn.metrics import confusion_matrix # confusion matrix take predcited and actual target as input arguments\n",
    "import seaborn as sns\n",
    "class_labels = torch.unique(test_dataset.targets).numpy()\n",
    "#class_lables = np.array2string(class_lables)\n",
    "\n",
    "cm = confusion_matrix(targets_test, predictions_test)\n",
    "# Confusion Matrix HeatMap without Normalization\n",
    "fig, ax = plt.subplots(figsize=(10,10))\n",
    "sns.heatmap(cm, annot=True, fmt='.0f', xticklabels=class_labels, yticklabels=class_labels)\n",
    "plt.ylabel('Actual')\n",
    "plt.xlabel('Predicted')\n",
    "plt.show(block=False)\n",
    "\n"
   ]
  },
  {
   "cell_type": "code",
   "execution_count": 20,
   "metadata": {
    "colab": {
     "base_uri": "https://localhost:8080/",
     "height": 850
    },
    "executionInfo": {
     "elapsed": 687,
     "status": "ok",
     "timestamp": 1694982064634,
     "user": {
      "displayName": "Ukash Nakarmi",
      "userId": "01757892645475547705"
     },
     "user_tz": 300
    },
    "id": "EJESiTbWzSj7",
    "outputId": "bac4c873-1efa-4c4e-9742-1f6ff39d2320"
   },
   "outputs": [
    {
     "data": {
      "image/png": "[encoded data removed]",
      "text/plain": [
       "<Figure size 1000x1000 with 2 Axes>"
      ]
     },
     "metadata": {},
     "output_type": "display_data"
    }
   ],
   "source": [
    "# This code creates a normalized confusion matrix heatmap that shows the percentage of correct and incorrect predictions. Each row represents the digit and \n",
    "# and each column the predicted digit, but the numbers are not between 0 and 1. The diagonal values tell you what proportion of each digit was classified correctly, \n",
    "# while the other values show which digit the model commonly confuses. \n",
    "\n",
    "\n",
    "# Confusion Matrix HeatMap with Normalization\n",
    "cmn = cm.astype('float') / cm.sum(axis=1)[:, np.newaxis]\n",
    "fig, ax = plt.subplots(figsize=(10,10))\n",
    "sns.heatmap(cmn, annot=True, fmt='.2f', xticklabels=class_labels, yticklabels=class_labels)\n",
    "plt.ylabel('Actual')\n",
    "plt.xlabel('Predicted')\n",
    "plt.show(block=False)"
   ]
  }
 ],
 "metadata": {
  "colab": {
   "provenance": []
  },
  "kernelspec": {
   "display_name": "Python 3",
   "language": "python",
   "name": "python3"
  },
  "language_info": {
   "codemirror_mode": {
    "name": "ipython",
    "version": 3
   },
   "file_extension": ".py",
   "mimetype": "text/x-python",
   "name": "python",
   "nbconvert_exporter": "python",
   "pygments_lexer": "ipython3",
   "version": "3.12.10"
  }
 },
 "nbformat": 4,
 "nbformat_minor": 0
}
